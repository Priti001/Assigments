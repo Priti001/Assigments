{
 "cells": [
  {
   "cell_type": "code",
   "execution_count": 1,
   "metadata": {
    "collapsed": true
   },
   "outputs": [],
   "source": [
    "# Dependencies\n",
    "import csv\n",
    "import matplotlib.pyplot as plt\n",
    "import requests as req\n",
    "import pandas as pd"
   ]
  },
  {
   "cell_type": "code",
   "execution_count": 3,
   "metadata": {},
   "outputs": [],
   "source": [
    "# Save config information.\n",
    "api_key = \"3f1f5f418e58028aa38ca108fb027e36\"\n",
    "#url = \"http://api.openweathermap.org/data/2.5/weather?\"\n",
    "url = \"http://api.openweathermap.org/data/2.5/find?\"\n",
    "cityno= 50\n",
    "# Build partial query URL\n",
    "query_url = url + \"appid=\" + api_key + \"lat=55.5&lon=37.5&cnt=\" + str(cityno)\n",
    "\n",
    "#+ \"lat=55.5&lon=37.5&cnt=\" + cityno\n"
   ]
  },
  {
   "cell_type": "code",
   "execution_count": 4,
   "metadata": {},
   "outputs": [
    {
     "ename": "NameError",
     "evalue": "name 'randPoints' is not defined",
     "output_type": "error",
     "traceback": [
      "\u001b[1;31m---------------------------------------------------------------------------\u001b[0m",
      "\u001b[1;31mNameError\u001b[0m                                 Traceback (most recent call last)",
      "\u001b[1;32m<ipython-input-4-44bde43d99f1>\u001b[0m in \u001b[0;36m<module>\u001b[1;34m()\u001b[0m\n\u001b[0;32m      1\u001b[0m \u001b[0mweather_data\u001b[0m \u001b[1;33m=\u001b[0m \u001b[1;33m[\u001b[0m\u001b[1;33m]\u001b[0m\u001b[1;33m\u001b[0m\u001b[0m\n\u001b[1;32m----> 2\u001b[1;33m \u001b[0mcities\u001b[0m \u001b[1;33m=\u001b[0m \u001b[0mrandPoints\u001b[0m\u001b[1;33m\u001b[0m\u001b[0m\n\u001b[0m\u001b[0;32m      3\u001b[0m \u001b[1;33m\u001b[0m\u001b[0m\n\u001b[0;32m      4\u001b[0m \u001b[1;31m# Loop through the list of cities and perform a request for data on each\u001b[0m\u001b[1;33m\u001b[0m\u001b[1;33m\u001b[0m\u001b[0m\n\u001b[0;32m      5\u001b[0m \u001b[1;32mfor\u001b[0m \u001b[0mcity\u001b[0m \u001b[1;32min\u001b[0m \u001b[0mcities\u001b[0m\u001b[1;33m:\u001b[0m\u001b[1;33m\u001b[0m\u001b[0m\n",
      "\u001b[1;31mNameError\u001b[0m: name 'randPoints' is not defined"
     ]
    }
   ],
   "source": [
    "weather_data = []\n",
    "cities = randPoints\n",
    "\n",
    "# Loop through the list of cities and perform a request for data on each\n",
    "for city in cities:\n",
    "    response = req.get(query_url + str(cityno) ).json()\n",
    "    weather_data.append(response)\n",
    "\n",
    "weather_data"
   ]
  },
  {
   "cell_type": "code",
   "execution_count": 9,
   "metadata": {},
   "outputs": [
    {
     "name": "stdout",
     "output_type": "stream",
     "text": [
      "[(575, 2435), (282, 2213), (1777, 441), (2200, 263), (1101, 211), (1045, 1640), (381, 560), (177, 902), (1742, 176), (2213, 815), (723, 1391), (1831, 1113), (931, 859), (2263, 1377), (1295, 2158), (1744, 1782), (1034, 1438), (1197, 1190), (786, 380), (649, 1930), (2138, 1890), (1317, 757), (1305, 298), (1600, 1938), (2234, 34), (2037, 1343), (1381, 1318), (952, 2226), (1407, 2495), (631, 763), (1398, 1562), (1171, 516), (871, 10), (213, 1391), (1558, 1177), (461, 1250), (1573, 527), (1783, 725), (1953, 2023), (131, 305), (2003, 309), (2493, 2073), (1590, 860), (2478, 835), (2239, 2404), (2076, 611), (138, 26), (922, 1121), (522, 1441), (2029, 75), (97, 2435), (171, 1139), (35, 594), (530, 1652), (1363, 1004), (1219, 1763), (1195, 2408), (1789, 1321), (2347, 437), (1722, 2412), (2187, 1091), (2064, 2196), (1847, 2246), (752, 2310), (760, 1672), (2389, 1685), (592, 208), (1876, 1507), (1335, 85), (2139, 1675), (398, 1843), (65, 1565), (1573, 2141), (194, 1887), (718, 986), (2488, 1396), (2494, 258), (1991, 969), (843, 2057), (1557, 263), (333, 346), (1043, 1878), (2488, 2462), (2369, 1186), (569, 435), (466, 879), (880, 652), (1629, 1618), (2476, 13), (392, 80), (1416, 1831), (504, 2082), (1554, 57), (1979, 2407), (967, 2479), (311, 1571), (34, 2185), (1949, 1807), (299, 2416), (2369, 2249)]\n"
     ]
    }
   ],
   "source": [
    "import random\n",
    "\n",
    "radius = 200\n",
    "rangeX = (0, 2500)\n",
    "rangeY = (0, 2500)\n",
    "qty = 100  # or however many points you want\n",
    "\n",
    "# Generate a set of all points within 200 of the origin, to be used as offsets later\n",
    "# There's probably a more efficient way to do this.\n",
    "deltas = set()\n",
    "for x in range(-radius, radius+1):\n",
    "    for y in range(-radius, radius+1):\n",
    "        if x*x + y*y <= radius*radius:\n",
    "            deltas.add((x,y))\n",
    "\n",
    "randPoints = []\n",
    "excluded = set()\n",
    "i = 0\n",
    "while i<qty:\n",
    "    x = random.randrange(*rangeX)\n",
    "    y = random.randrange(*rangeY)\n",
    "    if (x,y) in excluded: continue\n",
    "    randPoints.append((x,y))\n",
    "    i += 1\n",
    "    excluded.update((x+dx, y+dy) for (dx,dy) in deltas)\n",
    "print (randPoints)"
   ]
  },
  {
   "cell_type": "code",
   "execution_count": 10,
   "metadata": {},
   "outputs": [
    {
     "name": "stdout",
     "output_type": "stream",
     "text": [
      "Requirement already satisfied: citipy in c:\\users\\pkodak\\anaconda3\\lib\\site-packages\n",
      "Requirement already satisfied: kdtree>=0.12 in c:\\users\\pkodak\\anaconda3\\lib\\site-packages (from citipy)\n",
      "The country code of leningradskiy is 'ru'.\n",
      "The country code of beringovskiy is 'ru'.\n",
      "The country code of leningradskiy is 'ru'.\n",
      "The country code of leningradskiy is 'ru'.\n",
      "The country code of pevek is 'ru'.\n",
      "The country code of leningradskiy is 'ru'.\n",
      "The country code of leningradskiy is 'ru'.\n",
      "The country code of leningradskiy is 'ru'.\n",
      "The country code of tiksi is 'ru'.\n",
      "The country code of leningradskiy is 'ru'.\n",
      "The country code of leningradskiy is 'ru'.\n",
      "The country code of leningradskiy is 'ru'.\n",
      "The country code of leningradskiy is 'ru'.\n",
      "The country code of leningradskiy is 'ru'.\n",
      "The country code of leningradskiy is 'ru'.\n",
      "The country code of leningradskiy is 'ru'.\n",
      "The country code of leningradskiy is 'ru'.\n",
      "The country code of leningradskiy is 'ru'.\n",
      "The country code of leningradskiy is 'ru'.\n",
      "The country code of leningradskiy is 'ru'.\n",
      "The country code of leningradskiy is 'ru'.\n",
      "The country code of leningradskiy is 'ru'.\n",
      "The country code of leningradskiy is 'ru'.\n",
      "The country code of leningradskiy is 'ru'.\n",
      "The country code of longyearbyen is 'sj'.\n",
      "The country code of leningradskiy is 'ru'.\n",
      "The country code of leningradskiy is 'ru'.\n",
      "The country code of leningradskiy is 'ru'.\n",
      "The country code of leningradskiy is 'ru'.\n",
      "The country code of leningradskiy is 'ru'.\n",
      "The country code of leningradskiy is 'ru'.\n",
      "The country code of leningradskiy is 'ru'.\n",
      "The country code of longyearbyen is 'sj'.\n",
      "The country code of beringovskiy is 'ru'.\n",
      "The country code of leningradskiy is 'ru'.\n",
      "The country code of leningradskiy is 'ru'.\n",
      "The country code of leningradskiy is 'ru'.\n",
      "The country code of leningradskiy is 'ru'.\n",
      "The country code of leningradskiy is 'ru'.\n",
      "The country code of leningradskiy is 'ru'.\n",
      "The country code of leningradskiy is 'ru'.\n",
      "The country code of leningradskiy is 'ru'.\n",
      "The country code of leningradskiy is 'ru'.\n",
      "The country code of leningradskiy is 'ru'.\n",
      "The country code of leningradskiy is 'ru'.\n",
      "The country code of leningradskiy is 'ru'.\n",
      "The country code of longyearbyen is 'sj'.\n",
      "The country code of leningradskiy is 'ru'.\n",
      "The country code of leningradskiy is 'ru'.\n",
      "The country code of longyearbyen is 'sj'.\n",
      "The country code of beringovskiy is 'ru'.\n",
      "The country code of beringovskiy is 'ru'.\n",
      "The country code of beringovskiy is 'ru'.\n",
      "The country code of leningradskiy is 'ru'.\n",
      "The country code of leningradskiy is 'ru'.\n",
      "The country code of leningradskiy is 'ru'.\n",
      "The country code of leningradskiy is 'ru'.\n",
      "The country code of leningradskiy is 'ru'.\n",
      "The country code of leningradskiy is 'ru'.\n",
      "The country code of leningradskiy is 'ru'.\n",
      "The country code of leningradskiy is 'ru'.\n",
      "The country code of leningradskiy is 'ru'.\n",
      "The country code of leningradskiy is 'ru'.\n",
      "The country code of leningradskiy is 'ru'.\n",
      "The country code of leningradskiy is 'ru'.\n",
      "The country code of leningradskiy is 'ru'.\n",
      "The country code of leningradskiy is 'ru'.\n",
      "The country code of leningradskiy is 'ru'.\n",
      "The country code of longyearbyen is 'sj'.\n",
      "The country code of leningradskiy is 'ru'.\n",
      "The country code of leningradskiy is 'ru'.\n",
      "The country code of beringovskiy is 'ru'.\n",
      "The country code of leningradskiy is 'ru'.\n",
      "The country code of beringovskiy is 'ru'.\n",
      "The country code of leningradskiy is 'ru'.\n",
      "The country code of leningradskiy is 'ru'.\n",
      "The country code of nizhneyansk is 'ru'.\n",
      "The country code of leningradskiy is 'ru'.\n",
      "The country code of leningradskiy is 'ru'.\n",
      "The country code of leningradskiy is 'ru'.\n",
      "The country code of leningradskiy is 'ru'.\n",
      "The country code of leningradskiy is 'ru'.\n",
      "The country code of leningradskiy is 'ru'.\n",
      "The country code of leningradskiy is 'ru'.\n",
      "The country code of leningradskiy is 'ru'.\n",
      "The country code of leningradskiy is 'ru'.\n",
      "The country code of leningradskiy is 'ru'.\n",
      "The country code of leningradskiy is 'ru'.\n",
      "The country code of longyearbyen is 'sj'.\n",
      "The country code of dikson is 'ru'.\n",
      "The country code of leningradskiy is 'ru'.\n",
      "The country code of leningradskiy is 'ru'.\n",
      "The country code of longyearbyen is 'sj'.\n",
      "The country code of leningradskiy is 'ru'.\n",
      "The country code of leningradskiy is 'ru'.\n",
      "The country code of leningradskiy is 'ru'.\n",
      "The country code of beringovskiy is 'ru'.\n",
      "The country code of leningradskiy is 'ru'.\n",
      "The country code of beringovskiy is 'ru'.\n",
      "The country code of leningradskiy is 'ru'.\n"
     ]
    }
   ],
   "source": [
    "# Dependencies\n",
    "!pip install citipy\n",
    "from citipy import citipy\n",
    "\n",
    "# Some random coordinates\n",
    "#coordinates = [(200, 200), (23, 200), (42, 100)]\n",
    "coordinates = randPoints\n",
    "cities = []\n",
    "for coordinate_pair in coordinates:\n",
    "    lat, lon = coordinate_pair\n",
    "    cities.append(citipy.nearest_city(lat, lon))\n",
    "\n",
    "for city in cities:\n",
    "    country_code = city.country_code\n",
    "    name = city.city_name\n",
    "    print(\"The country code of \" + name + \" is '\" + country_code + \"'.\")\n"
   ]
  },
  {
   "cell_type": "code",
   "execution_count": 8,
   "metadata": {},
   "outputs": [
    {
     "data": {
      "text/plain": [
       "[<citipy.citipy.City at 0xdd1dddb780>,\n",
       " <citipy.citipy.City at 0xdd1d542160>,\n",
       " <citipy.citipy.City at 0xdd1ca92828>]"
      ]
     },
     "execution_count": 8,
     "metadata": {},
     "output_type": "execute_result"
    }
   ],
   "source": [
    "cities "
   ]
  },
  {
   "cell_type": "code",
   "execution_count": null,
   "metadata": {
    "collapsed": true
   },
   "outputs": [],
   "source": []
  }
 ],
 "metadata": {
  "kernelspec": {
   "display_name": "Python 3",
   "language": "python",
   "name": "python3"
  },
  "language_info": {
   "codemirror_mode": {
    "name": "ipython",
    "version": 3
   },
   "file_extension": ".py",
   "mimetype": "text/x-python",
   "name": "python",
   "nbconvert_exporter": "python",
   "pygments_lexer": "ipython3",
   "version": "3.6.1"
  }
 },
 "nbformat": 4,
 "nbformat_minor": 2
}
